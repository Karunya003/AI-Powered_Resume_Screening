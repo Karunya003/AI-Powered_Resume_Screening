{
 "cells": [
  {
   "cell_type": "code",
   "execution_count": null,
   "metadata": {},
   "outputs": [],
   "source": [
    "import os\n",
    "import pandas as pd\n",
    "from pdfminer.high_level import extract_text\n",
    "from docx import Document  \n",
    "import win32com.client  "
   ]
  },
  {
   "cell_type": "code",
   "execution_count": null,
   "metadata": {},
   "outputs": [],
   "source": [
    "current_dir = os.path.dirname(os.path.abspath(\"__file__\"))\n",
    "\n",
    "resume_csv_path = os.path.join(current_dir, \"..\", \"Resume-Dataset\", \"Resume\", \"Resume.csv\")\n",
    "job_csv_path = os.path.join(current_dir, \"..\", \"Resume-Dataset\", \"training_data.csv\")\n",
    "resumes_dir = os.path.join(current_dir, \"..\", \"Resume-Dataset\", \"data\", \"data\")\n",
    "\n",
    "resume_info = pd.read_csv(resume_csv_path)  \n",
    "job_descriptions = pd.read_csv(job_csv_path)"
   ]
  },
  {
   "cell_type": "code",
   "execution_count": null,
   "metadata": {},
   "outputs": [],
   "source": [
    "def extract_text_from_pdf(pdf_path):\n",
    "    return extract_text(pdf_path)\n",
    "\n",
    "def extract_text_from_docx(docx_path):\n",
    "    doc = Document(docx_path)\n",
    "    return \"\\n\".join([para.text for para in doc.paragraphs])\n",
    "\n",
    "def extract_text_from_doc(doc_path):\n",
    "    word = win32com.client.Dispatch(\"Word.Application\")\n",
    "    word.visible = False\n",
    "    doc = word.Documents.Open(doc_path)\n",
    "    text = doc.Content.Text\n",
    "    doc.Close()\n",
    "    word.Quit()\n",
    "    return text\n",
    "\n",
    "def find_resume_files(directory):\n",
    "    resume_files = []\n",
    "    for root, _, files in os.walk(directory):\n",
    "        for file in files:\n",
    "            if file.endswith(\".pdf\") or file.endswith(\".doc\") or file.endswith(\".docx\"):\n",
    "                resume_files.append(os.path.join(root, file))\n",
    "    return resume_files"
   ]
  },
  {
   "cell_type": "code",
   "execution_count": null,
   "metadata": {},
   "outputs": [],
   "source": [
    "resume_files = find_resume_files(resumes_dir)\n",
    "\n",
    "resume_ids_in_csv = set(resume_info['ID'].astype(str)) \n",
    "\n",
    "extracted_texts = {}\n",
    "for resume_path in resume_files:\n",
    "    resume_id = os.path.splitext(os.path.basename(resume_path))[0]\n",
    "\n",
    "    if resume_id not in resume_ids_in_csv:\n",
    "        print(f\"Skipping file {resume_path} (ID not in Resume.csv)\")\n",
    "        continue\n",
    "\n",
    "    try:\n",
    "        if resume_path.endswith(\".pdf\"):\n",
    "            text = extract_text_from_pdf(resume_path)\n",
    "        elif resume_path.endswith(\".docx\"):\n",
    "            text = extract_text_from_docx(resume_path)\n",
    "        elif resume_path.endswith(\".doc\"):\n",
    "            text = extract_text_from_doc(resume_path)\n",
    "        else:\n",
    "            print(f\"Unsupported file format: {resume_path}\")\n",
    "            continue\n",
    "        \n",
    "        extracted_texts[resume_id] = text\n",
    "    except Exception as e:\n",
    "        print(f\"Error processing file {resume_path}: {e}\")\n",
    "\n"
   ]
  },
  {
   "cell_type": "code",
   "execution_count": null,
   "metadata": {},
   "outputs": [
    {
     "name": "stdout",
     "output_type": "stream",
     "text": [
      "Text extraction completed. 2457 resumes processed and saved in 'c:\\Users\\karun\\OneDrive\\Documents\\Brain Inspired AI Project\\src\\..\\outputs\\extracted_texts'.\n"
     ]
    }
   ],
   "source": [
    "output_dir = os.path.join(current_dir, \"..\", \"outputs\", \"extracted_texts\")\n",
    "os.makedirs(output_dir, exist_ok=True)\n",
    "\n",
    "for resume_id, text in extracted_texts.items():\n",
    "    file_path = os.path.join(output_dir, f'{resume_id}.txt')\n",
    "    with open(file_path, 'w', encoding='utf-8') as f:\n",
    "        f.write(text)\n",
    "\n",
    "print(f\"Text extraction completed. {len(extracted_texts)} resumes processed and saved in '{output_dir}'.\")"
   ]
  }
 ],
 "metadata": {
  "kernelspec": {
   "display_name": "Python 3",
   "language": "python",
   "name": "python3"
  },
  "language_info": {
   "codemirror_mode": {
    "name": "ipython",
    "version": 3
   },
   "file_extension": ".py",
   "mimetype": "text/x-python",
   "name": "python",
   "nbconvert_exporter": "python",
   "pygments_lexer": "ipython3",
   "version": "3.12.7"
  }
 },
 "nbformat": 4,
 "nbformat_minor": 2
}
