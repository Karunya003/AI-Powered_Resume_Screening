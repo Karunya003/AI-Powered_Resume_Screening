{
 "cells": [
  {
   "cell_type": "code",
   "execution_count": null,
   "metadata": {},
   "outputs": [],
   "source": [
    "import os\n",
    "import pickle\n",
    "import numpy as np\n",
    "import snntorch as snn\n",
    "import snntorch.functional as SF\n",
    "import torch\n",
    "from tqdm import tqdm"
   ]
  },
  {
   "cell_type": "code",
   "execution_count": null,
   "metadata": {},
   "outputs": [],
   "source": [
    "current_dir = os.path.dirname(os.path.abspath(\"__file__\"))\n",
    "output_dir = os.path.join(current_dir, \"..\", \"outputs\")\n",
    "\n",
    "training_data = os.path.join(output_dir,\"train\")"
   ]
  },
  {
   "cell_type": "code",
   "execution_count": null,
   "metadata": {},
   "outputs": [],
   "source": [
    "with open(os.path.join(training_data, \"resumes.pkl\"), \"rb\") as f:\n",
    "    resumes = pickle.load(f)\n",
    "with open(os.path.join(training_data, \"jobs.pkl\"), \"rb\") as f:\n",
    "    jobs = pickle.load(f)"
   ]
  },
  {
   "cell_type": "code",
   "execution_count": null,
   "metadata": {},
   "outputs": [],
   "source": [
    "def count_entries(pkl_path):\n",
    "    with open(pkl_path, 'rb') as f:\n",
    "        data = pickle.load(f)\n",
    "        return len(data)\n",
    "\n",
    "num_resumes = count_entries('resumes.pkl')\n",
    "num_jobs = count_entries('jobs.pkl')\n",
    "\n",
    "print(f\"Resumes: {num_resumes} | Jobs: {num_jobs}\")"
   ]
  },
  {
   "cell_type": "code",
   "execution_count": 11,
   "metadata": {},
   "outputs": [
    {
     "name": "stdout",
     "output_type": "stream",
     "text": [
      "Resumes: 1473 | Jobs: 435\n"
     ]
    }
   ],
   "source": [
    "num_resumes = len(resumes)\n",
    "num_jobs = len(jobs)\n",
    "\n",
    "print(f\"Resumes: {num_resumes} | Jobs: {num_jobs}\")"
   ]
  },
  {
   "cell_type": "code",
   "execution_count": null,
   "metadata": {},
   "outputs": [
    {
     "name": "stderr",
     "output_type": "stream",
     "text": [
      "Encoding batches: 100%|██████████| 12816/12816 [03:46<00:00, 56.70it/s]\n"
     ]
    },
    {
     "name": "stdout",
     "output_type": "stream",
     "text": [
      "Saved 640755 samples across 12816 files in spike_trains\n"
     ]
    }
   ],
   "source": [
    "def incremental_population_encode(embeddings, \n",
    "                                num_neurons=5, \n",
    "                                time_steps=10, \n",
    "                                batch_size=50,\n",
    "                                output_dir=\"spike_data\"):\n",
    "\n",
    "    os.makedirs(output_dir, exist_ok=True)\n",
    "\n",
    "    min_val = embeddings.min()\n",
    "    max_val = embeddings.max()\n",
    "    embeddings = (embeddings - min_val) / (max_val - min_val + 1e-8)\n",
    "\n",
    "    centers = torch.linspace(0, 1, num_neurons, device=embeddings.device)\n",
    "    width = 0.2\n",
    "\n",
    "    num_samples, num_dims = embeddings.shape\n",
    "    output_shape = (num_dims * num_neurons,)\n",
    "    \n",
    "    for batch_start in tqdm(range(0, num_samples, batch_size), \n",
    "                          desc=\"Encoding batches\"):\n",
    "        batch_end = min(batch_start + batch_size, num_samples)\n",
    "        batch = embeddings[batch_start:batch_end]\n",
    "   \n",
    "        batch_spikes = torch.zeros((len(batch), time_steps, *output_shape), \n",
    "                                 dtype=torch.float16) \n",
    "        \n",
    "        probs = torch.exp(\n",
    "            -((batch.unsqueeze(2) - centers.unsqueeze(0).unsqueeze(0)).pow(2) \n",
    "            / (2 * width**2))\n",
    "        )\n",
    "\n",
    "        for t in range(time_steps):\n",
    "            batch_spikes[:, t] = (torch.rand_like(probs) < probs).float().view(len(batch), -1)\n",
    "\n",
    "        torch.save(batch_spikes, \n",
    "                 os.path.join(output_dir, f\"spikes_batch_{batch_start:06d}.pt\"))\n",
    "\n",
    "        del batch_spikes, probs\n",
    "        torch.cuda.empty_cache() if torch.cuda.is_available() else None\n",
    "\n",
    "    torch.save({'min': min_val, 'max': max_val}, \n",
    "              os.path.join(output_dir, \"norm_params.pt\"))\n",
    "    \n",
    "    print(f\"Saved {num_samples} samples across {len(os.listdir(output_dir))-1} files in {output_dir}\")\n",
    "    return output_dir\n",
    "\n",
    "X_train_tensor = torch.tensor(X_train, dtype=torch.float32) \n",
    "\n",
    "output_path = incremental_population_encode(\n",
    "    X_train_tensor,\n",
    "    num_neurons=3,      \n",
    "    time_steps=5,       \n",
    "    batch_size=50,      \n",
    "    output_dir=\"spike_trains\"\n",
    ")"
   ]
  },
  {
   "cell_type": "code",
   "execution_count": null,
   "metadata": {},
   "outputs": [],
   "source": [
    "def incremental_population_encode(embeddings, \n",
    "                                output_dir,\n",
    "                                num_neurons=5, \n",
    "                                time_steps=10, \n",
    "                                batch_size=50,\n",
    "                                ):\n",
    "\n",
    "    centers = torch.linspace(0, 1, num_neurons, device=embeddings.device)\n",
    "    width = 0.2  \n",
    "\n",
    "    num_samples, num_dims = embeddings.shape\n",
    "    \n",
    "    for batch_start in tqdm(range(0, num_samples, batch_size), desc=\"Encoding\"):\n",
    "        batch = embeddings[batch_start:batch_start+batch_size]\n",
    "\n",
    "        batch_spikes = torch.zeros((len(batch), time_steps, num_dims * num_neurons),\n",
    "                                 dtype=torch.float16)\n",
    "\n",
    "        probs = torch.exp(\n",
    "            -((batch.unsqueeze(2) - centers.unsqueeze(0).unsqueeze(0)).pow(2) / (2 * width**2))\n",
    "        )\n",
    "   \n",
    "        for t in range(time_steps):\n",
    "            batch_spikes[:, t] = (torch.rand_like(probs) < probs).float().view(len(batch), -1)\n",
    "\n",
    "        torch.save(batch_spikes, \n",
    "                 os.path.join(output_dir, f\"spikes_batch_{batch_start:06d}.pt\"))\n",
    " \n",
    "        del batch_spikes, probs\n",
    "        torch.cuda.empty_cache() if torch.cuda.is_available() else None\n",
    "    \n",
    "    print(f\"Saved {num_samples} samples to {output_dir}\")\n",
    "    return output_dir"
   ]
  },
  {
   "cell_type": "code",
   "execution_count": null,
   "metadata": {},
   "outputs": [],
   "source": [
    "resume_tensor = torch.tensor(resumes, dtype=torch.float32)  \n",
    "job_tensor = torch.tensor(jobs, dtype=torch.float32)\n",
    "\n",
    "os.makedirs(os.path.join(training_data, \"spike_trains\",\"resumes\"))\n",
    "os.makedirs(os.path.join(training_data, \"spike_trains\",\"jobs\"))\n",
    "resume_spike_dir = os.path.join(training_data, \"spike_trains\",\"resumes\")\n",
    "job_spike_dir = os.path.join(training_data, \"spike_trains\",\"jobs\")"
   ]
  },
  {
   "cell_type": "code",
   "execution_count": null,
   "metadata": {},
   "outputs": [
    {
     "name": "stderr",
     "output_type": "stream",
     "text": [
      "Encoding: 100%|██████████| 15/15 [00:00<00:00, 17.74it/s]"
     ]
    },
    {
     "name": "stdout",
     "output_type": "stream",
     "text": [
      "Saved 1473 samples to c:\\Users\\karun\\OneDrive\\Documents\\Brain Inspired AI Project\\src\\..\\outputs\\train\\spike_trains\\resumes\n"
     ]
    },
    {
     "name": "stderr",
     "output_type": "stream",
     "text": [
      "\n"
     ]
    }
   ],
   "source": [
    "output_path = incremental_population_encode(\n",
    "    resume_tensor,\n",
    "    num_neurons=5,    \n",
    "    output_dir=resume_spike_dir,\n",
    "    time_steps=10,    \n",
    "    batch_size=100    \n",
    ")"
   ]
  },
  {
   "cell_type": "code",
   "execution_count": null,
   "metadata": {},
   "outputs": [
    {
     "name": "stderr",
     "output_type": "stream",
     "text": [
      "Encoding: 100%|██████████| 5/5 [00:00<00:00, 18.78it/s]"
     ]
    },
    {
     "name": "stdout",
     "output_type": "stream",
     "text": [
      "Saved 435 samples to c:\\Users\\karun\\OneDrive\\Documents\\Brain Inspired AI Project\\src\\..\\outputs\\train\\spike_trains\\jobs\n"
     ]
    },
    {
     "name": "stderr",
     "output_type": "stream",
     "text": [
      "\n"
     ]
    }
   ],
   "source": [
    "output_path = incremental_population_encode(\n",
    "    job_tensor,\n",
    "    num_neurons=5,   \n",
    "    output_dir=job_spike_dir,\n",
    "    time_steps=10,    \n",
    "    batch_size=100    \n",
    ")"
   ]
  }
 ],
 "metadata": {
  "kernelspec": {
   "display_name": "Python 3",
   "language": "python",
   "name": "python3"
  },
  "language_info": {
   "codemirror_mode": {
    "name": "ipython",
    "version": 3
   },
   "file_extension": ".py",
   "mimetype": "text/x-python",
   "name": "python",
   "nbconvert_exporter": "python",
   "pygments_lexer": "ipython3",
   "version": "3.12.7"
  }
 },
 "nbformat": 4,
 "nbformat_minor": 2
}
