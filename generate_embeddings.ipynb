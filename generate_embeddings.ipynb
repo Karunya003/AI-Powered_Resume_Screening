{
 "cells": [
  {
   "cell_type": "code",
   "execution_count": 2,
   "metadata": {},
   "outputs": [],
   "source": [
    "import os\n",
    "import re\n",
    "import numpy as np\n",
    "import pandas as pd\n",
    "from sentence_transformers import SentenceTransformer\n",
    "from transformers import BertTokenizer, BertModel\n",
    "import torch\n",
    "from tqdm import tqdm\n",
    "import pickle"
   ]
  },
  {
   "cell_type": "code",
   "execution_count": null,
   "metadata": {},
   "outputs": [
    {
     "name": "stderr",
     "output_type": "stream",
     "text": [
      "c:\\Users\\karun\\AppData\\Local\\Programs\\Python\\Python312\\Lib\\site-packages\\huggingface_hub\\file_download.py:142: UserWarning: `huggingface_hub` cache-system uses symlinks by default to efficiently store duplicated files but your machine does not support them in C:\\Users\\karun\\.cache\\huggingface\\hub\\models--sentence-transformers--all-MiniLM-L6-v2. Caching files will still work but in a degraded version that might require more space on your disk. This warning can be disabled by setting the `HF_HUB_DISABLE_SYMLINKS_WARNING` environment variable. For more details, see https://huggingface.co/docs/huggingface_hub/how-to-cache#limitations.\n",
      "To support symlinks on Windows, you either need to activate Developer Mode or to run Python as an administrator. In order to activate developer mode, see this article: https://docs.microsoft.com/en-us/windows/apps/get-started/enable-your-device-for-development\n",
      "  warnings.warn(message)\n"
     ]
    }
   ],
   "source": [
    "model = SentenceTransformer(\"all-MiniLM-L6-v2\")"
   ]
  },
  {
   "cell_type": "code",
   "execution_count": 4,
   "metadata": {},
   "outputs": [],
   "source": [
    "current_dir = os.path.dirname(os.path.abspath(\"__file__\"))\n",
    "output_dir = os.path.join(current_dir, \"..\", \"outputs\")\n",
    "job_csv_path = os.path.join(current_dir, \"..\", \"Resume-Dataset\", \"training_data.csv\")"
   ]
  },
  {
   "cell_type": "code",
   "execution_count": null,
   "metadata": {},
   "outputs": [
    {
     "name": "stderr",
     "output_type": "stream",
     "text": [
      "Generating resume embeddings: 100%|██████████| 2457/2457 [04:52<00:00,  8.40it/s]\n"
     ]
    }
   ],
   "source": [
    "extracted_texts = {}\n",
    "for filename in os.listdir(os.path.join(output_dir, \"extracted_texts\")):\n",
    "    with open(os.path.join(output_dir, \"extracted_texts\", filename), 'r', encoding='utf-8') as f:\n",
    "        resume_id = filename.split('.')[0]  \n",
    "        extracted_texts[resume_id] = f.read()\n",
    "\n",
    "resume_embeddings = {}\n",
    "for resume_id, text in tqdm(extracted_texts.items(), desc=\"Generating resume embeddings\"):\n",
    "    embedding = model.encode(text, convert_to_numpy=True, normalize_embeddings=True)\n",
    "    resume_embeddings[resume_id] = embedding"
   ]
  },
  {
   "cell_type": "code",
   "execution_count": null,
   "metadata": {},
   "outputs": [],
   "source": [
    "def sanitize_filename(title):\n",
    "    sanitized_title = re.sub(r'[0-9<>:\"/\\\\|?*%]', '_', title)\n",
    "    return sanitized_title"
   ]
  },
  {
   "cell_type": "code",
   "execution_count": null,
   "metadata": {},
   "outputs": [
    {
     "name": "stderr",
     "output_type": "stream",
     "text": [
      "Generating job embeddings: 853it [01:23, 10.17it/s]\n"
     ]
    }
   ],
   "source": [
    "job_descriptions = pd.read_csv(job_csv_path)\n",
    "job_embeddings = {}\n",
    "for index, row in tqdm(job_descriptions.iterrows(), desc=\"Generating job embeddings\"):\n",
    "    job_title = row['position_title']\n",
    "    sanitized_job_title = sanitize_filename(job_title)\n",
    "    job_description = row['job_description']\n",
    "    embedding = model.encode(job_description, convert_to_numpy=True, normalize_embeddings=True)\n",
    "    job_embeddings[sanitized_job_title] = embedding"
   ]
  },
  {
   "cell_type": "code",
   "execution_count": null,
   "metadata": {},
   "outputs": [
    {
     "name": "stdout",
     "output_type": "stream",
     "text": [
      "Embeddings generated and saved in 'outputs/embeddings'.\n"
     ]
    }
   ],
   "source": [
    "os.makedirs(os.path.join(output_dir, \"embeddings\", \"resumes\"), exist_ok=True)\n",
    "\n",
    "for resume_id, embedding in resume_embeddings.items():\n",
    "    file_path = os.path.join(output_dir, \"embeddings\", \"resumes\", f'{resume_id}.npy')\n",
    "    np.save(file_path, embedding)\n",
    "\n",
    "print(\"Embeddings generated and saved in 'outputs/embeddings'.\")"
   ]
  },
  {
   "cell_type": "code",
   "execution_count": null,
   "metadata": {},
   "outputs": [
    {
     "name": "stdout",
     "output_type": "stream",
     "text": [
      "Embeddings generated and saved in 'outputs/embeddings'.\n"
     ]
    }
   ],
   "source": [
    "os.makedirs(os.path.join(output_dir, \"embeddings\", \"job_description\"), exist_ok=True)\n",
    "\n",
    "for job_title, embedding in job_embeddings.items():\n",
    "    sanitized_job_title = sanitize_filename(job_title)\n",
    "    file_path = os.path.join(output_dir, \"embeddings\", \"job_description\", f'{sanitized_job_title}.npy')\n",
    "    np.save(file_path, embedding)\n",
    "\n",
    "print(\"Embeddings generated and saved in 'outputs/embeddings'.\")"
   ]
  },
  {
   "cell_type": "code",
   "execution_count": null,
   "metadata": {},
   "outputs": [],
   "source": [
    "resume_emb_path= os.path.join(output_dir, \"embeddings\",f'resumes.pkl')\n",
    "job_emb_path= os.path.join(output_dir, \"embeddings\",f'jobs.pkl')\n",
    "\n",
    "with open(resume_emb_path, \"wb\") as f:\n",
    "    pickle.dump(resume_embeddings,f)\n",
    "\n",
    "with open(job_emb_path, \"wb\") as f:\n",
    "    pickle.dump(job_embeddings,f)"
   ]
  },
  {
   "cell_type": "code",
   "execution_count": null,
   "metadata": {},
   "outputs": [
    {
     "name": "stdout",
     "output_type": "stream",
     "text": [
      "Type of object: <class 'dict'>\n",
      "Number of resumes: 2457\n",
      "Sample keys: ['10001727', '10005171', '10030015', '10041713', '10062724']\n"
     ]
    }
   ],
   "source": [
    "import pickle\n",
    "\n",
    "with open(resume_emb_path, \"rb\") as f:\n",
    "    resumes = pickle.load(f)\n",
    "\n",
    "print(f\"Type of object: {type(resumes)}\")\n",
    "\n",
    "if isinstance(resumes, dict):\n",
    "    print(f\"Number of resumes: {len(resumes)}\")\n",
    "    print(f\"Sample keys: {list(resumes.keys())[:5]}\")  \n",
    "\n",
    "elif isinstance(resumes, list):\n",
    "    print(f\"Number of resumes: {len(resumes)}\")\n",
    "    print(f\"Sample resume embeddings: {resumes[:2]}\")  \n"
   ]
  },
  {
   "cell_type": "code",
   "execution_count": 13,
   "metadata": {},
   "outputs": [
    {
     "name": "stdout",
     "output_type": "stream",
     "text": [
      "Unique embedding shapes: {(384,)}\n"
     ]
    }
   ],
   "source": [
    "embedding_shapes = {k: np.array(v).shape for k, v in resumes.items()}\n",
    "unique_shapes = set(embedding_shapes.values())\n",
    "\n",
    "print(f\"Unique embedding shapes: {unique_shapes}\")\n"
   ]
  }
 ],
 "metadata": {
  "kernelspec": {
   "display_name": "Python 3",
   "language": "python",
   "name": "python3"
  },
  "language_info": {
   "codemirror_mode": {
    "name": "ipython",
    "version": 3
   },
   "file_extension": ".py",
   "mimetype": "text/x-python",
   "name": "python",
   "nbconvert_exporter": "python",
   "pygments_lexer": "ipython3",
   "version": "3.12.7"
  }
 },
 "nbformat": 4,
 "nbformat_minor": 2
}
